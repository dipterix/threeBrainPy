{
 "cells": [
  {
   "cell_type": "markdown",
   "metadata": {},
   "source": [
    "# Introduction"
   ]
  },
  {
   "cell_type": "code",
   "execution_count": 1,
   "metadata": {},
   "outputs": [
    {
     "name": "stdout",
     "output_type": "stream",
     "text": [
      "Serving at http://127.0.0.1:57573\n"
     ]
    }
   ],
   "source": [
    "from threebrainpy.extensions import BrainWidget\n",
    "from threebrainpy.core import Brain\n",
    "from threebrainpy.utils.temps import ensure_temporary_directory\n",
    "brain = Brain(\"test\", \"/Users/dipterix/rave_data/raw_dir/DemoSubject/rave-imaging/fs\")\n",
    "brain.add_slice(slice_prefix = \"brain.finalsurfs\")\n",
    "# self._groups['Volume - T1 (test)']._cached_items\n",
    "brain.add_surfaces(surface_type = \"pial\")\n",
    "w = BrainWidget()\n",
    "w.render(brain)"
   ]
  },
  {
   "cell_type": "code",
   "execution_count": 2,
   "metadata": {},
   "outputs": [
    {
     "data": {
      "application/vnd.jupyter.widget-view+json": {
       "model_id": "338d794bfb7040f99526f3b4050bc554",
       "version_major": 2,
       "version_minor": 0
      },
      "text/plain": [
       "BrainWidget(config='{\"data_filename\": \"config_gdzyhoc2hzewzwuv.json\", \"force_render\": true, \"settings\": {\"titl…"
      ]
     },
     "execution_count": 2,
     "metadata": {},
     "output_type": "execute_result"
    }
   ],
   "source": [
    "w"
   ]
  },
  {
   "cell_type": "code",
   "execution_count": 4,
   "metadata": {},
   "outputs": [],
   "source": [
    "w.config='{\"data_filename\": \"config_ixgg3vq87d6txyfb.json\", \"force_render\": true, \"settings\": {\"title\": \"\", \"side_camera\": true, \"side_canvas_zoom\": 1, \"side_canvas_width\": 250, \"side_canvas_shift\": [0, 0], \"color_maps\": {}, \"default_colormap\": null, \"hide_controls\": false, \"control_center\": [0, 0, 0], \"camera_pos\": [500, 0, 0], \"font_magnification\": 1, \"start_zoom\": 1, \"show_legend\": true, \"render_timestamp\": true, \"control_presets\": [\"subject2\", \"surface_type2\", \"hemisphere_material\", \"surface_color\", \"map_template\", \"electrodes\", \"voxel\", \"animation\", \"display_highlights\"], \"cache_folder\": \"http://localhost:56894/lib/threebrain_data-0//\", \"lib_path\": \"lib/\", \"default_controllers\": [], \"debug\": true, \"background\": \"#FFFFFF\", \"token\": null, \"show_inactive_electrodes\": true, \"side_display\": true, \"control_display\": true, \"custom_javascript\": null}, \"width\": 1.0, \"height\": 500}'\n"
   ]
  },
  {
   "cell_type": "code",
   "execution_count": 9,
   "metadata": {},
   "outputs": [],
   "source": [
    "w.value = '''{\n",
    "        \"data_filename\": \"config.json\", \"force_render\": true, \n",
    "        \"settings\": {\n",
    "            \"title\": \"\", \"side_camera\": true, \"side_canvas_zoom\": 1, \"side_canvas_width\": 250,\n",
    "            \"side_canvas_shift\": [0, 0], \"color_maps\": {}, \"default_colormap\": null,\n",
    "            \"hide_controls\": false, \"control_center\": [0, 0, 0], \"camera_pos\": [500, 0, 0], \n",
    "            \"font_magnification\": 1, \"start_zoom\": 1.1, \"show_legend\": true, \"render_timestamp\": true,\n",
    "            \"control_presets\": [\"subject2\", \"surface_type2\", \"hemisphere_material\", \"surface_color\", \n",
    "                                \"map_template\", \"electrodes\", \"voxel\", \"animation\", \"display_highlights\"],\n",
    "            \"cache_folder\": \"http://127.0.0.1:52137/lib/threebrain_data-0/\", \"lib_path\": \"lib/\", \n",
    "            \"default_controllers\": [], \"debug\": true, \"background\": \"#FFFFFF\", \"token\": null, \n",
    "            \"show_inactive_electrodes\": true, \"side_display\": true, \"control_display\": true, \n",
    "            \"custom_javascript\": null\n",
    "        }\n",
    "}'''"
   ]
  },
  {
   "cell_type": "code",
   "execution_count": 6,
   "metadata": {},
   "outputs": [
    {
     "data": {
      "application/vnd.jupyter.widget-view+json": {
       "model_id": "4712b5d8b67b47fcbff1b06642319c6c",
       "version_major": 2,
       "version_minor": 0
      },
      "text/plain": [
       "BrainWidget(value='{\\n        \"data_filename\": \"config.json\", \"force_render\": true, \\n        \"settings\": {\\n …"
      ]
     },
     "execution_count": 6,
     "metadata": {},
     "output_type": "execute_result"
    }
   ],
   "source": [
    "w"
   ]
  },
  {
   "cell_type": "code",
   "execution_count": null,
   "metadata": {},
   "outputs": [],
   "source": []
  },
  {
   "cell_type": "code",
   "execution_count": null,
   "metadata": {},
   "outputs": [],
   "source": []
  }
 ],
 "metadata": {
  "kernelspec": {
   "display_name": "Python 3 (ipykernel)",
   "language": "python",
   "name": "python3"
  },
  "language_info": {
   "codemirror_mode": {
    "name": "ipython",
    "version": 3
   },
   "file_extension": ".py",
   "mimetype": "text/x-python",
   "name": "python",
   "nbconvert_exporter": "python",
   "pygments_lexer": "ipython3",
   "version": "3.10.9"
  }
 },
 "nbformat": 4,
 "nbformat_minor": 4
}
