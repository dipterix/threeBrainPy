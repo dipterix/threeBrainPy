{
 "cells": [
  {
   "cell_type": "markdown",
   "metadata": {},
   "source": [
    "# Introduction"
   ]
  },
  {
   "cell_type": "code",
   "execution_count": 11,
   "metadata": {},
   "outputs": [
    {
     "data": {
      "text/plain": [
       "{'lh': <CorticalSurface (free): FreeSurfer Left Hemisphere - pial (test) (pial, lh) in group [Surface - pial (test)]>,\n",
       " 'rh': <CorticalSurface (free): FreeSurfer Right Hemisphere - pial (test) (pial, rh) in group [Surface - pial (test)]>}"
      ]
     },
     "execution_count": 11,
     "metadata": {},
     "output_type": "execute_result"
    }
   ],
   "source": [
    "from threeBrainPy.core import Brain\n",
    "from threeBrainPy.extensions import BrainWidget\n",
    "brain = Brain(\"test\", \"/Users/dipterix/rave_data/raw_dir/DemoSubject/rave-imaging/fs\")\n",
    "brain.add_slice(slice_prefix = \"brain.finalsurfs\")\n",
    "# self._groups['Volume - T1 (test)']._cached_items\n",
    "brain.add_surfaces(surface_type = \"pial\")"
   ]
  },
  {
   "cell_type": "code",
   "execution_count": 12,
   "metadata": {},
   "outputs": [
    {
     "ename": "FileNotFoundError",
     "evalue": "File /Users/dipterix/Dropbox (Personal)/projects/threeBrainPy/.venv/lib/python3.10/site-packages/threeBrainPy/templates/lib/threeBrain_data-0/__global_data/ContinuousSample.json not found.",
     "output_type": "error",
     "traceback": [
      "\u001b[0;31m---------------------------------------------------------------------------\u001b[0m",
      "\u001b[0;31mFileNotFoundError\u001b[0m                         Traceback (most recent call last)",
      "Cell \u001b[0;32mIn[12], line 2\u001b[0m\n\u001b[1;32m      1\u001b[0m w \u001b[38;5;241m=\u001b[39m BrainWidget()\n\u001b[0;32m----> 2\u001b[0m \u001b[43mw\u001b[49m\u001b[38;5;241;43m.\u001b[39;49m\u001b[43mrender\u001b[49m\u001b[43m(\u001b[49m\u001b[43mbrain\u001b[49m\u001b[43m)\u001b[49m\n",
      "File \u001b[0;32m~/Dropbox (Personal)/projects/threeBrainPy/.venv/lib/python3.10/site-packages/threeBrainPy/extensions/widget.py:42\u001b[0m, in \u001b[0;36mBrainWidget.render\u001b[0;34m(self, brain, width, height, **kwargs)\u001b[0m\n\u001b[1;32m     40\u001b[0m service \u001b[38;5;241m=\u001b[39m start_service()\n\u001b[1;32m     41\u001b[0m \u001b[38;5;66;03m# build the brain into service directory\u001b[39;00m\n\u001b[0;32m---> 42\u001b[0m config \u001b[38;5;241m=\u001b[39m \u001b[43mbrain\u001b[49m\u001b[38;5;241;43m.\u001b[39;49m\u001b[43mbuild\u001b[49m\u001b[43m(\u001b[49m\u001b[43mpath\u001b[49m\u001b[43m \u001b[49m\u001b[38;5;241;43m=\u001b[39;49m\u001b[43m \u001b[49m\u001b[43mservice\u001b[49m\u001b[38;5;241;43m.\u001b[39;49m\u001b[43m_directory\u001b[49m\u001b[43m,\u001b[49m\u001b[43m \u001b[49m\u001b[43mdry_run\u001b[49m\u001b[43m \u001b[49m\u001b[38;5;241;43m=\u001b[39;49m\u001b[43m \u001b[49m\u001b[38;5;28;43;01mFalse\u001b[39;49;00m\u001b[43m,\u001b[49m\u001b[43m \u001b[49m\u001b[38;5;241;43m*\u001b[39;49m\u001b[38;5;241;43m*\u001b[39;49m\u001b[43mkwargs\u001b[49m\u001b[43m)\u001b[49m\n\u001b[1;32m     43\u001b[0m \u001b[38;5;28mself\u001b[39m\u001b[38;5;241m.\u001b[39mservice \u001b[38;5;241m=\u001b[39m service\n\u001b[1;32m     44\u001b[0m \u001b[38;5;28mself\u001b[39m\u001b[38;5;241m.\u001b[39mbrain \u001b[38;5;241m=\u001b[39m brain\n",
      "File \u001b[0;32m~/Dropbox (Personal)/projects/threeBrainPy/.venv/lib/python3.10/site-packages/threeBrainPy/core/brain.py:993\u001b[0m, in \u001b[0;36mBrain.build\u001b[0;34m(self, path, dry_run)\u001b[0m\n\u001b[1;32m    990\u001b[0m default_cmap \u001b[38;5;241m=\u001b[39m \u001b[38;5;28mlist\u001b[39m(cmaps\u001b[38;5;241m.\u001b[39mkeys())[\u001b[38;5;241m0\u001b[39m] \u001b[38;5;28;01mif\u001b[39;00m \u001b[38;5;28mlen\u001b[39m(cmaps) \u001b[38;5;241m>\u001b[39m \u001b[38;5;241m0\u001b[39m \u001b[38;5;28;01melse\u001b[39;00m \u001b[38;5;28;01mNone\u001b[39;00m\n\u001b[1;32m    992\u001b[0m \u001b[38;5;66;03m# Hard-code for now\u001b[39;00m\n\u001b[0;32m--> 993\u001b[0m \u001b[43mbuild_group\u001b[49m\u001b[38;5;241;43m.\u001b[39;49m\u001b[43mset_group_data\u001b[49m\u001b[43m(\u001b[49m\n\u001b[1;32m    994\u001b[0m \u001b[43m    \u001b[49m\u001b[43mname\u001b[49m\u001b[43m \u001b[49m\u001b[38;5;241;43m=\u001b[39;49m\u001b[43m \u001b[49m\u001b[38;5;124;43m'\u001b[39;49m\u001b[38;5;124;43m__global_data__.SurfaceColorLUT\u001b[39;49m\u001b[38;5;124;43m'\u001b[39;49m\u001b[43m,\u001b[49m\u001b[43m \u001b[49m\n\u001b[1;32m    995\u001b[0m \u001b[43m    \u001b[49m\u001b[43mvalue\u001b[49m\u001b[43m \u001b[49m\u001b[38;5;241;43m=\u001b[39;49m\u001b[43m \u001b[49m\u001b[43mtemplate_path\u001b[49m\u001b[43m(\u001b[49m\u001b[38;5;124;43mf\u001b[39;49m\u001b[38;5;124;43m\"\u001b[39;49m\u001b[38;5;124;43mlib/threeBrain_data-0/\u001b[39;49m\u001b[38;5;132;43;01m{\u001b[39;49;00m\u001b[38;5;250;43m \u001b[39;49m\u001b[43mbuild_group\u001b[49m\u001b[38;5;241;43m.\u001b[39;49m\u001b[43mcache_name\u001b[49m\u001b[38;5;250;43m \u001b[39;49m\u001b[38;5;132;43;01m}\u001b[39;49;00m\u001b[38;5;124;43m/ContinuousSample.json\u001b[39;49m\u001b[38;5;124;43m\"\u001b[39;49m\u001b[43m)\u001b[49m\u001b[43m,\u001b[49m\n\u001b[1;32m    996\u001b[0m \u001b[43m    \u001b[49m\u001b[43mis_cache\u001b[49m\u001b[43m \u001b[49m\u001b[38;5;241;43m=\u001b[39;49m\u001b[43m \u001b[49m\u001b[38;5;28;43;01mTrue\u001b[39;49;00m\n\u001b[1;32m    997\u001b[0m \u001b[43m\u001b[49m\u001b[43m)\u001b[49m\n\u001b[1;32m    998\u001b[0m build_group\u001b[38;5;241m.\u001b[39mset_group_data(\n\u001b[1;32m    999\u001b[0m     name \u001b[38;5;241m=\u001b[39m \u001b[38;5;124m'\u001b[39m\u001b[38;5;124m__global_data__.VolumeColorLUT\u001b[39m\u001b[38;5;124m'\u001b[39m, \n\u001b[1;32m   1000\u001b[0m     value \u001b[38;5;241m=\u001b[39m template_path(\u001b[38;5;124mf\u001b[39m\u001b[38;5;124m\"\u001b[39m\u001b[38;5;124mlib/threeBrain_data-0/\u001b[39m\u001b[38;5;132;01m{\u001b[39;00m\u001b[38;5;250m \u001b[39mbuild_group\u001b[38;5;241m.\u001b[39mcache_name\u001b[38;5;250m \u001b[39m\u001b[38;5;132;01m}\u001b[39;00m\u001b[38;5;124m/FreeSurferColorLUT.json\u001b[39m\u001b[38;5;124m\"\u001b[39m),\n\u001b[1;32m   1001\u001b[0m     is_cache \u001b[38;5;241m=\u001b[39m \u001b[38;5;28;01mTrue\u001b[39;00m\n\u001b[1;32m   1002\u001b[0m )\n\u001b[1;32m   1003\u001b[0m build_group\u001b[38;5;241m.\u001b[39mset_group_data(\n\u001b[1;32m   1004\u001b[0m     name \u001b[38;5;241m=\u001b[39m \u001b[38;5;124m'\u001b[39m\u001b[38;5;124m__global_data__.FSColorLUT\u001b[39m\u001b[38;5;124m'\u001b[39m, \n\u001b[1;32m   1005\u001b[0m     value \u001b[38;5;241m=\u001b[39m template_path(\u001b[38;5;124mf\u001b[39m\u001b[38;5;124m\"\u001b[39m\u001b[38;5;124mlib/threeBrain_data-0/\u001b[39m\u001b[38;5;132;01m{\u001b[39;00m\u001b[38;5;250m \u001b[39mbuild_group\u001b[38;5;241m.\u001b[39mcache_name\u001b[38;5;250m \u001b[39m\u001b[38;5;132;01m}\u001b[39;00m\u001b[38;5;124m/FSColorLUT.json\u001b[39m\u001b[38;5;124m\"\u001b[39m),\n\u001b[1;32m   1006\u001b[0m     is_cache \u001b[38;5;241m=\u001b[39m \u001b[38;5;28;01mTrue\u001b[39;00m\n\u001b[1;32m   1007\u001b[0m )\n",
      "File \u001b[0;32m~/Dropbox (Personal)/projects/threeBrainPy/.venv/lib/python3.10/site-packages/threeBrainPy/core/group.py:59\u001b[0m, in \u001b[0;36mGeomWrapper.set_group_data\u001b[0;34m(self, name, value, is_cache, absolute_path)\u001b[0m\n\u001b[1;32m     57\u001b[0m         absolute_path \u001b[38;5;241m=\u001b[39m os\u001b[38;5;241m.\u001b[39mpath\u001b[38;5;241m.\u001b[39mabspath(value)\n\u001b[1;32m     58\u001b[0m     \u001b[38;5;28;01mif\u001b[39;00m \u001b[38;5;129;01mnot\u001b[39;00m os\u001b[38;5;241m.\u001b[39mpath\u001b[38;5;241m.\u001b[39mexists(absolute_path):\n\u001b[0;32m---> 59\u001b[0m         \u001b[38;5;28;01mraise\u001b[39;00m \u001b[38;5;167;01mFileNotFoundError\u001b[39;00m(\u001b[38;5;124mf\u001b[39m\u001b[38;5;124m\"\u001b[39m\u001b[38;5;124mFile \u001b[39m\u001b[38;5;132;01m{\u001b[39;00mabsolute_path\u001b[38;5;132;01m}\u001b[39;00m\u001b[38;5;124m not found.\u001b[39m\u001b[38;5;124m\"\u001b[39m)\n\u001b[1;32m     60\u001b[0m     value \u001b[38;5;241m=\u001b[39m {\n\u001b[1;32m     61\u001b[0m         \u001b[38;5;124m'\u001b[39m\u001b[38;5;124mpath\u001b[39m\u001b[38;5;124m'\u001b[39m: value,\n\u001b[1;32m     62\u001b[0m         \u001b[38;5;124m'\u001b[39m\u001b[38;5;124mis_cache\u001b[39m\u001b[38;5;124m'\u001b[39m: \u001b[38;5;28;01mTrue\u001b[39;00m,\n\u001b[0;32m   (...)\u001b[0m\n\u001b[1;32m     66\u001b[0m         \u001b[38;5;124m'\u001b[39m\u001b[38;5;124mis_new_cache\u001b[39m\u001b[38;5;124m'\u001b[39m: \u001b[38;5;28;01mFalse\u001b[39;00m,\n\u001b[1;32m     67\u001b[0m     }\n\u001b[1;32m     68\u001b[0m \u001b[38;5;66;03m# check if this is a manual cache\u001b[39;00m\n",
      "\u001b[0;31mFileNotFoundError\u001b[0m: File /Users/dipterix/Dropbox (Personal)/projects/threeBrainPy/.venv/lib/python3.10/site-packages/threeBrainPy/templates/lib/threeBrain_data-0/__global_data/ContinuousSample.json not found."
     ]
    }
   ],
   "source": [
    "w = BrainWidget()\n",
    "w.render(brain)"
   ]
  },
  {
   "cell_type": "code",
   "execution_count": 5,
   "metadata": {},
   "outputs": [
    {
     "name": "stdout",
     "output_type": "stream",
     "text": [
      "['/Users/dipterix/Dropbox (Personal)/projects/threeBrainPy/examples', '/Users/dipterix/miniconda3/lib/python310.zip', '/Users/dipterix/miniconda3/lib/python3.10', '/Users/dipterix/miniconda3/lib/python3.10/lib-dynload', '', '/Users/dipterix/Dropbox (Personal)/projects/threeBrainPy/.venv/lib/python3.10/site-packages']\n"
     ]
    }
   ],
   "source": [
    "import sys\n",
    "print(sys.path)\n"
   ]
  },
  {
   "cell_type": "code",
   "execution_count": 4,
   "metadata": {},
   "outputs": [],
   "source": [
    "w.config='{\"data_filename\": \"config_ixgg3vq87d6txyfb.json\", \"force_render\": true, \"settings\": {\"title\": \"\", \"side_camera\": true, \"side_canvas_zoom\": 1, \"side_canvas_width\": 250, \"side_canvas_shift\": [0, 0], \"color_maps\": {}, \"default_colormap\": null, \"hide_controls\": false, \"control_center\": [0, 0, 0], \"camera_pos\": [500, 0, 0], \"font_magnification\": 1, \"start_zoom\": 1, \"show_legend\": true, \"render_timestamp\": true, \"control_presets\": [\"subject2\", \"surface_type2\", \"hemisphere_material\", \"surface_color\", \"map_template\", \"electrodes\", \"voxel\", \"animation\", \"display_highlights\"], \"cache_folder\": \"http://localhost:56894/lib/threebrain_data-0//\", \"lib_path\": \"lib/\", \"default_controllers\": [], \"debug\": true, \"background\": \"#FFFFFF\", \"token\": null, \"show_inactive_electrodes\": true, \"side_display\": true, \"control_display\": true, \"custom_javascript\": null}, \"width\": 1.0, \"height\": 500}'\n"
   ]
  },
  {
   "cell_type": "code",
   "execution_count": 9,
   "metadata": {},
   "outputs": [],
   "source": [
    "w.value = '''{\n",
    "        \"data_filename\": \"config.json\", \"force_render\": true, \n",
    "        \"settings\": {\n",
    "            \"title\": \"\", \"side_camera\": true, \"side_canvas_zoom\": 1, \"side_canvas_width\": 250,\n",
    "            \"side_canvas_shift\": [0, 0], \"color_maps\": {}, \"default_colormap\": null,\n",
    "            \"hide_controls\": false, \"control_center\": [0, 0, 0], \"camera_pos\": [500, 0, 0], \n",
    "            \"font_magnification\": 1, \"start_zoom\": 1.1, \"show_legend\": true, \"render_timestamp\": true,\n",
    "            \"control_presets\": [\"subject2\", \"surface_type2\", \"hemisphere_material\", \"surface_color\", \n",
    "                                \"map_template\", \"electrodes\", \"voxel\", \"animation\", \"display_highlights\"],\n",
    "            \"cache_folder\": \"http://127.0.0.1:52137/lib/threebrain_data-0/\", \"lib_path\": \"lib/\", \n",
    "            \"default_controllers\": [], \"debug\": true, \"background\": \"#FFFFFF\", \"token\": null, \n",
    "            \"show_inactive_electrodes\": true, \"side_display\": true, \"control_display\": true, \n",
    "            \"custom_javascript\": null\n",
    "        }\n",
    "}'''"
   ]
  },
  {
   "cell_type": "code",
   "execution_count": 6,
   "metadata": {},
   "outputs": [
    {
     "data": {
      "application/vnd.jupyter.widget-view+json": {
       "model_id": "4712b5d8b67b47fcbff1b06642319c6c",
       "version_major": 2,
       "version_minor": 0
      },
      "text/plain": [
       "BrainWidget(value='{\\n        \"data_filename\": \"config.json\", \"force_render\": true, \\n        \"settings\": {\\n …"
      ]
     },
     "execution_count": 6,
     "metadata": {},
     "output_type": "execute_result"
    }
   ],
   "source": [
    "w"
   ]
  },
  {
   "cell_type": "code",
   "execution_count": null,
   "metadata": {},
   "outputs": [],
   "source": []
  },
  {
   "cell_type": "code",
   "execution_count": null,
   "metadata": {},
   "outputs": [],
   "source": []
  }
 ],
 "metadata": {
  "kernelspec": {
   "display_name": "Python 3 (ipykernel)",
   "language": "python",
   "name": "python3"
  },
  "language_info": {
   "codemirror_mode": {
    "name": "ipython",
    "version": 3
   },
   "file_extension": ".py",
   "mimetype": "text/x-python",
   "name": "python",
   "nbconvert_exporter": "python",
   "pygments_lexer": "ipython3",
   "version": "3.10.9"
  }
 },
 "nbformat": 4,
 "nbformat_minor": 4
}
