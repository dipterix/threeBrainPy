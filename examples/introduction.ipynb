{
 "cells": [
  {
   "cell_type": "markdown",
   "metadata": {},
   "source": [
    "# Introduction"
   ]
  },
  {
   "cell_type": "code",
   "execution_count": 2,
   "metadata": {},
   "outputs": [
    {
     "ename": "ModuleNotFoundError",
     "evalue": "No module named 'threebrainpy'",
     "output_type": "error",
     "traceback": [
      "\u001b[0;31m---------------------------------------------------------------------------\u001b[0m",
      "\u001b[0;31mModuleNotFoundError\u001b[0m                       Traceback (most recent call last)",
      "Cell \u001b[0;32mIn[2], line 1\u001b[0m\n\u001b[0;32m----> 1\u001b[0m \u001b[38;5;28;01mimport\u001b[39;00m \u001b[38;5;21;01mthreebrainpy\u001b[39;00m\n",
      "\u001b[0;31mModuleNotFoundError\u001b[0m: No module named 'threebrainpy'"
     ]
    }
   ],
   "source": [
    "from threebrainpy.extensions import BrainWidget\n",
    "from threebrainpy.core import Brain\n",
    "from threebrainpy.utils.temps import ensure_temporary_directory\n",
    "brain = Brain(\"test\", \"/Users/dipterix/rave_data/raw_dir/DemoSubject/rave-imaging/fs\")\n",
    "brain.add_slice(slice_prefix = \"brain.finalsurfs\")\n",
    "# self._groups['Volume - T1 (test)']._cached_items\n",
    "brain.add_surfaces(surface_type = \"pial\")\n",
    "w = BrainWidget()\n",
    "w.render(brain)"
   ]
  },
  {
   "cell_type": "code",
   "execution_count": 5,
   "metadata": {},
   "outputs": [
    {
     "name": "stdout",
     "output_type": "stream",
     "text": [
      "['/Users/dipterix/Dropbox (Personal)/projects/threeBrainPy/examples', '/Users/dipterix/miniconda3/lib/python310.zip', '/Users/dipterix/miniconda3/lib/python3.10', '/Users/dipterix/miniconda3/lib/python3.10/lib-dynload', '', '/Users/dipterix/Dropbox (Personal)/projects/threeBrainPy/.venv/lib/python3.10/site-packages']\n"
     ]
    }
   ],
   "source": [
    "import sys\n",
    "print(sys.path)\n"
   ]
  },
  {
   "cell_type": "code",
   "execution_count": 4,
   "metadata": {},
   "outputs": [],
   "source": [
    "w.config='{\"data_filename\": \"config_ixgg3vq87d6txyfb.json\", \"force_render\": true, \"settings\": {\"title\": \"\", \"side_camera\": true, \"side_canvas_zoom\": 1, \"side_canvas_width\": 250, \"side_canvas_shift\": [0, 0], \"color_maps\": {}, \"default_colormap\": null, \"hide_controls\": false, \"control_center\": [0, 0, 0], \"camera_pos\": [500, 0, 0], \"font_magnification\": 1, \"start_zoom\": 1, \"show_legend\": true, \"render_timestamp\": true, \"control_presets\": [\"subject2\", \"surface_type2\", \"hemisphere_material\", \"surface_color\", \"map_template\", \"electrodes\", \"voxel\", \"animation\", \"display_highlights\"], \"cache_folder\": \"http://localhost:56894/lib/threebrain_data-0//\", \"lib_path\": \"lib/\", \"default_controllers\": [], \"debug\": true, \"background\": \"#FFFFFF\", \"token\": null, \"show_inactive_electrodes\": true, \"side_display\": true, \"control_display\": true, \"custom_javascript\": null}, \"width\": 1.0, \"height\": 500}'\n"
   ]
  },
  {
   "cell_type": "code",
   "execution_count": 9,
   "metadata": {},
   "outputs": [],
   "source": [
    "w.value = '''{\n",
    "        \"data_filename\": \"config.json\", \"force_render\": true, \n",
    "        \"settings\": {\n",
    "            \"title\": \"\", \"side_camera\": true, \"side_canvas_zoom\": 1, \"side_canvas_width\": 250,\n",
    "            \"side_canvas_shift\": [0, 0], \"color_maps\": {}, \"default_colormap\": null,\n",
    "            \"hide_controls\": false, \"control_center\": [0, 0, 0], \"camera_pos\": [500, 0, 0], \n",
    "            \"font_magnification\": 1, \"start_zoom\": 1.1, \"show_legend\": true, \"render_timestamp\": true,\n",
    "            \"control_presets\": [\"subject2\", \"surface_type2\", \"hemisphere_material\", \"surface_color\", \n",
    "                                \"map_template\", \"electrodes\", \"voxel\", \"animation\", \"display_highlights\"],\n",
    "            \"cache_folder\": \"http://127.0.0.1:52137/lib/threebrain_data-0/\", \"lib_path\": \"lib/\", \n",
    "            \"default_controllers\": [], \"debug\": true, \"background\": \"#FFFFFF\", \"token\": null, \n",
    "            \"show_inactive_electrodes\": true, \"side_display\": true, \"control_display\": true, \n",
    "            \"custom_javascript\": null\n",
    "        }\n",
    "}'''"
   ]
  },
  {
   "cell_type": "code",
   "execution_count": 6,
   "metadata": {},
   "outputs": [
    {
     "data": {
      "application/vnd.jupyter.widget-view+json": {
       "model_id": "4712b5d8b67b47fcbff1b06642319c6c",
       "version_major": 2,
       "version_minor": 0
      },
      "text/plain": [
       "BrainWidget(value='{\\n        \"data_filename\": \"config.json\", \"force_render\": true, \\n        \"settings\": {\\n …"
      ]
     },
     "execution_count": 6,
     "metadata": {},
     "output_type": "execute_result"
    }
   ],
   "source": [
    "w"
   ]
  },
  {
   "cell_type": "code",
   "execution_count": null,
   "metadata": {},
   "outputs": [],
   "source": []
  },
  {
   "cell_type": "code",
   "execution_count": null,
   "metadata": {},
   "outputs": [],
   "source": []
  }
 ],
 "metadata": {
  "kernelspec": {
   "display_name": "Python 3 (ipykernel)",
   "language": "python",
   "name": "python3"
  },
  "language_info": {
   "codemirror_mode": {
    "name": "ipython",
    "version": 3
   },
   "file_extension": ".py",
   "mimetype": "text/x-python",
   "name": "python",
   "nbconvert_exporter": "python",
   "pygments_lexer": "ipython3",
   "version": "3.10.9"
  }
 },
 "nbformat": 4,
 "nbformat_minor": 4
}
